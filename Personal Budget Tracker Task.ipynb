{
 "cells": [
  {
   "cell_type": "markdown",
   "id": "cf4cc57f",
   "metadata": {},
   "source": [
    "# Personal Budget Tracker"
   ]
  },
  {
   "cell_type": "code",
   "execution_count": null,
   "id": "a2f3b304",
   "metadata": {},
   "outputs": [],
   "source": [
    "class Expense:\n",
    "    def __init__(self, name, category, amount):\n",
    "        self.name = name\n",
    "        self.category = category\n",
    "        self.amount = amount"
   ]
  },
  {
   "cell_type": "code",
   "execution_count": null,
   "id": "b8c419c7",
   "metadata": {},
   "outputs": [],
   "source": [
    "def __repr__(self) -> str:\n",
    "        return f\"{self.name} (${self.amount:.2f})\""
   ]
  },
  {
   "cell_type": "code",
   "execution_count": null,
   "id": "c3c88bd9",
   "metadata": {},
   "outputs": [],
   "source": [
    "from datetime import datetime\n",
    "from expense import Expense"
   ]
  },
  {
   "cell_type": "code",
   "execution_count": null,
   "id": "4843bf7b",
   "metadata": {},
   "outputs": [],
   "source": [
    "def main():\n",
    "     # Ask the user to add an expense.\n",
    "    expense = get_expense()\n",
    "    print(f\"You've added {expense} to your expenses.\")\n",
    "\n",
    "    # Save the expense to a file.\n",
    "    expenses = save_expense(expense)\n",
    "\n",
    "    # Show the user the current expense breakdown.\n",
    "    number_of_expenses = len(expenses)\n",
    "    total_expenses = sum([expense.amount for expense in expenses])\n",
    "    print(f\"You have {number_of_expenses} expenses totalling ${total_expenses:.2f}.\")\n",
    "\n",
    "    # Show expenses by category.\n",
    "    show_expense_by_category(expenses)\n",
    "\n",
    "    # Show the user a rough estimate of how much they have left to spend per day.\n",
    "    show_budget(total_expenses)\n"
   ]
  },
  {
   "cell_type": "code",
   "execution_count": null,
   "id": "a1d32d89",
   "metadata": {},
   "outputs": [],
   "source": [
    "def save_expense(expense):\n",
    "    current_date = datetime.now()\n",
    "    expense_filename = f\"expenses_{current_date.year}_{current_date.month}.csv\"\n",
    "\n",
    "    with open(expense_filename, \"a\") as file:\n",
    "        file.write(f\"{expense.name},{expense.category},{expense.amount}\\n\")\n",
    "\n",
    "    # Read the expenses from the file.\n",
    "    expenses = []\n",
    "    with open(expense_filename, \"r\") as file:\n",
    "        for line in file:\n",
    "            name, category, amount = line.strip().split(\",\")\n",
    "            expenses.append(Expense(name, category, float(amount)))\n",
    "    return expenses"
   ]
  },
  {
   "cell_type": "code",
   "execution_count": null,
   "id": "6bb6b809",
   "metadata": {},
   "outputs": [],
   "source": [
    "def get_expense():\n",
    "    print(\"Welcome to the expense tracker! 🤑\")\n",
    "    expense_name = input(\"Enter expense name: \")\n",
    "    expense_amount = float(input(\"Enter expense amount ($): \"))\n",
    "    expense_categories = [\n",
    "        \"🍔 Food\",\n",
    "        \"🏠 Home\",\n",
    "        \"💼 Work\",\n",
    "        \"🎉 Fun\",\n",
    "        \"✨ Misc\",\n",
    "    ]\n",
    "\n",
    "    while True:\n",
    "        print(\"Select a category:\")\n",
    "        for index, category in enumerate(expense_categories):\n",
    "            print(f\"{index + 1}. {category}\")\n",
    "\n",
    "        category_index = int(input(\"Enter a category number: \")) - 1\n",
    "        if category_index in range(len(expense_categories)):\n",
    "            break\n",
    "        else:\n",
    "            print(\"Invalid category. Please try again.\")\n",
    "\n",
    "    expense_category = expense_categories[category_index]\n",
    "    expense = Expense(expense_name, expense_category, expense_amount)\n",
    "    return expense\n"
   ]
  },
  {
   "cell_type": "code",
   "execution_count": null,
   "id": "746b9cb2",
   "metadata": {},
   "outputs": [],
   "source": [
    "def show_budget(total_expenses):\n",
    "    print(\"\\n💵 Budget\")\n",
    "    MONTHLY_BUDGET = 2000\n",
    "    money_left = MONTHLY_BUDGET - total_expenses\n",
    "    money_left_str = green(f\"${money_left:.2f}\")\n",
    "\n",
    "    if money_left < 0:\n",
    "        print(f\"You're over budget by {money_left_str} this month.\")\n",
    "    else:\n",
    "        print(f\"You have {money_left_str} left to spend this month.\")\n",
    "        days_left = 30 - datetime.now().day\n",
    "        money_per_day = money_left / days_left\n",
    "        money_per_day_str = green(f\"${money_per_day:.2f}\")\n",
    "        print(f\"That's roughly {money_per_day_str} per day.\")\n",
    "\n"
   ]
  },
  {
   "cell_type": "code",
   "execution_count": null,
   "id": "17571872",
   "metadata": {},
   "outputs": [],
   "source": [
    "def show_expense_by_category(expenses):\n",
    "    print(\"\\n📈 Expenses by category\")\n",
    "    categories = set([expense.category for expense in expenses])\n",
    "    for category in categories:\n",
    "        category_expenses = [\n",
    "            expense for expense in expenses if expense.category == category\n",
    "        ]\n",
    "        category_total = sum([expense.amount for expense in category_expenses])\n",
    "        print(f\"{category}: ${category_total:.2f}\")\n"
   ]
  },
  {
   "cell_type": "code",
   "execution_count": null,
   "id": "bf200439",
   "metadata": {},
   "outputs": [],
   "source": [
    "def green(text):\n",
    "    return f\"\\033[92m{text}\\033[0m\"\n"
   ]
  },
  {
   "cell_type": "code",
   "execution_count": null,
   "id": "f685899b",
   "metadata": {},
   "outputs": [],
   "source": [
    "if __name__ == \"__main__\":\n",
    "    main()"
   ]
  },
  {
   "cell_type": "code",
   "execution_count": null,
   "id": "bd818815",
   "metadata": {},
   "outputs": [],
   "source": []
  }
 ],
 "metadata": {
  "kernelspec": {
   "display_name": "Python 3 (ipykernel)",
   "language": "python",
   "name": "python3"
  },
  "language_info": {
   "codemirror_mode": {
    "name": "ipython",
    "version": 3
   },
   "file_extension": ".py",
   "mimetype": "text/x-python",
   "name": "python",
   "nbconvert_exporter": "python",
   "pygments_lexer": "ipython3",
   "version": "3.9.7"
  }
 },
 "nbformat": 4,
 "nbformat_minor": 5
}
